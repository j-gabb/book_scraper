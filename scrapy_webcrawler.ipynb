{
 "cells": [
  {
   "cell_type": "code",
   "execution_count": 1,
   "id": "025153ba-43c5-4160-bfb8-a5e71cf49c59",
   "metadata": {},
   "outputs": [],
   "source": [
    "import scrapy"
   ]
  },
  {
   "cell_type": "code",
   "execution_count": 2,
   "id": "840bc67f-5e03-48ff-b531-379ddf84a138",
   "metadata": {},
   "outputs": [],
   "source": [
    "class SpiderSpider(scrapy.Spider):\n",
    "    name = 'spider'\n",
    "    allowed_domains = ['books.toscrape.com']\n",
    "    start_urls = ['http://books.toscrape.com/']\n",
    "    base_url = 'http://books.toscrape.com/'\n",
    "\n",
    "    def parse(self, response):\n",
    "        books_list = response.xpath('//article')\n",
    "\n",
    "        for book in books_list:\n",
    "            book_url = self.start_urls[0] + book.xpath('.//div[@class=\"image_container\"]/a/@href').extract_first()\n",
    "            yield scrapy.Request(book_url, callback=self.parse_book)\n",
    "\n",
    "    def parse_book(self, response):\n",
    "        title = response.xpath('//div/h1/text()').extract_first()\n",
    "        relative_image = response.xpath('//div[@class=\"item active\"]/img/@src').extract_first()\n",
    "        final_image = self.base_url + relative_image.replace('../..' , '')\n",
    "        price = response.xpath('//div[contains(@class, \"product_main\")]/p[@class=\"price_color\"]/text()').extract_first()\n",
    "        stock = response.xpath('//div[contains(@class, \"product_main\")]/p[contains(@class, \"instock\")]/text()').extract()[1].strip()\n",
    "        rating = response.xpath('//div/p[contains(@class, \"star-rating\")]/@class').extract_first().replace('star-rating', '')\n",
    "        upc = response.xpath('//table[@class=\"table table-striped\"]/tr[1]/td/text()').extract_first()\n",
    "        price_exc_tax = response.xpath('//table[@class=\"table table-striped\"]/tr[3]/td/text()').extract_first()\n",
    "        price_inc_tax = response.xpath('//table[@class=\"table table-striped\"]/tr[4]/td/text()').extract_first()\n",
    "        print(upc)\n",
    "        yield {\n",
    "            'title': title,\n",
    "            'image':relative_image,\n",
    "            'price':price,\n",
    "            'stock':stock,\n",
    "            'rating':rating,\n",
    "            'upc':upc,\n",
    "            'price_exc_tax':price_exc_tax,\n",
    "            'price_inc_tax':price_inc_tax,\n",
    "            }"
   ]
  },
  {
   "cell_type": "code",
   "execution_count": null,
   "id": "8c3d533a-1f41-4b9b-8b74-cbf885002162",
   "metadata": {},
   "outputs": [],
   "source": [
    "#To save output into a file, in the console type \"scrapy crawl spider -o books.csv\""
   ]
  }
 ],
 "metadata": {
  "kernelspec": {
   "display_name": "Python 3 (ipykernel)",
   "language": "python",
   "name": "python3"
  },
  "language_info": {
   "codemirror_mode": {
    "name": "ipython",
    "version": 3
   },
   "file_extension": ".py",
   "mimetype": "text/x-python",
   "name": "python",
   "nbconvert_exporter": "python",
   "pygments_lexer": "ipython3",
   "version": "3.9.12"
  }
 },
 "nbformat": 4,
 "nbformat_minor": 5
}
